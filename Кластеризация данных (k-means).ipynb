{
 "cells": [
  {
   "cell_type": "markdown",
   "metadata": {},
   "source": [
    "# Кластеризація даних за допомогою метода k-means"
   ]
  },
  {
   "cell_type": "markdown",
   "metadata": {},
   "source": [
    "## 1. Імпорт необхідних пакетів  "
   ]
  },
  {
   "cell_type": "code",
   "execution_count": 2,
   "metadata": {},
   "outputs": [],
   "source": [
    "import sklearn as sk \n",
    "import pandas as pd \n",
    "import numpy as np\n",
    "import matplotlib.pyplot as plt"
   ]
  },
  {
   "cell_type": "markdown",
   "metadata": {},
   "source": [
    "## 2. Імпорт набору даних для подальшої роботи"
   ]
  },
  {
   "cell_type": "code",
   "execution_count": 3,
   "metadata": {},
   "outputs": [
    {
     "data": {
      "text/html": [
       "<div>\n",
       "<style scoped>\n",
       "    .dataframe tbody tr th:only-of-type {\n",
       "        vertical-align: middle;\n",
       "    }\n",
       "\n",
       "    .dataframe tbody tr th {\n",
       "        vertical-align: top;\n",
       "    }\n",
       "\n",
       "    .dataframe thead th {\n",
       "        text-align: right;\n",
       "    }\n",
       "</style>\n",
       "<table border=\"1\" class=\"dataframe\">\n",
       "  <thead>\n",
       "    <tr style=\"text-align: right;\">\n",
       "      <th></th>\n",
       "      <th>CustomerID</th>\n",
       "      <th>Genre</th>\n",
       "      <th>Age</th>\n",
       "      <th>Annual Income (k$)</th>\n",
       "      <th>Spending Score (1-100)</th>\n",
       "    </tr>\n",
       "  </thead>\n",
       "  <tbody>\n",
       "    <tr>\n",
       "      <th>0</th>\n",
       "      <td>1</td>\n",
       "      <td>Male</td>\n",
       "      <td>19</td>\n",
       "      <td>15</td>\n",
       "      <td>39</td>\n",
       "    </tr>\n",
       "    <tr>\n",
       "      <th>1</th>\n",
       "      <td>2</td>\n",
       "      <td>Male</td>\n",
       "      <td>21</td>\n",
       "      <td>15</td>\n",
       "      <td>81</td>\n",
       "    </tr>\n",
       "    <tr>\n",
       "      <th>2</th>\n",
       "      <td>3</td>\n",
       "      <td>Female</td>\n",
       "      <td>20</td>\n",
       "      <td>16</td>\n",
       "      <td>6</td>\n",
       "    </tr>\n",
       "    <tr>\n",
       "      <th>3</th>\n",
       "      <td>4</td>\n",
       "      <td>Female</td>\n",
       "      <td>23</td>\n",
       "      <td>16</td>\n",
       "      <td>77</td>\n",
       "    </tr>\n",
       "    <tr>\n",
       "      <th>4</th>\n",
       "      <td>5</td>\n",
       "      <td>Female</td>\n",
       "      <td>31</td>\n",
       "      <td>17</td>\n",
       "      <td>40</td>\n",
       "    </tr>\n",
       "    <tr>\n",
       "      <th>...</th>\n",
       "      <td>...</td>\n",
       "      <td>...</td>\n",
       "      <td>...</td>\n",
       "      <td>...</td>\n",
       "      <td>...</td>\n",
       "    </tr>\n",
       "    <tr>\n",
       "      <th>195</th>\n",
       "      <td>196</td>\n",
       "      <td>Female</td>\n",
       "      <td>35</td>\n",
       "      <td>120</td>\n",
       "      <td>79</td>\n",
       "    </tr>\n",
       "    <tr>\n",
       "      <th>196</th>\n",
       "      <td>197</td>\n",
       "      <td>Female</td>\n",
       "      <td>45</td>\n",
       "      <td>126</td>\n",
       "      <td>28</td>\n",
       "    </tr>\n",
       "    <tr>\n",
       "      <th>197</th>\n",
       "      <td>198</td>\n",
       "      <td>Male</td>\n",
       "      <td>32</td>\n",
       "      <td>126</td>\n",
       "      <td>74</td>\n",
       "    </tr>\n",
       "    <tr>\n",
       "      <th>198</th>\n",
       "      <td>199</td>\n",
       "      <td>Male</td>\n",
       "      <td>32</td>\n",
       "      <td>137</td>\n",
       "      <td>18</td>\n",
       "    </tr>\n",
       "    <tr>\n",
       "      <th>199</th>\n",
       "      <td>200</td>\n",
       "      <td>Male</td>\n",
       "      <td>30</td>\n",
       "      <td>137</td>\n",
       "      <td>83</td>\n",
       "    </tr>\n",
       "  </tbody>\n",
       "</table>\n",
       "<p>200 rows × 5 columns</p>\n",
       "</div>"
      ],
      "text/plain": [
       "     CustomerID   Genre  Age  Annual Income (k$)  Spending Score (1-100)\n",
       "0             1    Male   19                  15                      39\n",
       "1             2    Male   21                  15                      81\n",
       "2             3  Female   20                  16                       6\n",
       "3             4  Female   23                  16                      77\n",
       "4             5  Female   31                  17                      40\n",
       "..          ...     ...  ...                 ...                     ...\n",
       "195         196  Female   35                 120                      79\n",
       "196         197  Female   45                 126                      28\n",
       "197         198    Male   32                 126                      74\n",
       "198         199    Male   32                 137                      18\n",
       "199         200    Male   30                 137                      83\n",
       "\n",
       "[200 rows x 5 columns]"
      ]
     },
     "execution_count": 3,
     "metadata": {},
     "output_type": "execute_result"
    }
   ],
   "source": [
    "dataset = pd.read_csv('Mall_Customers.csv')\n",
    "X = dataset.iloc[:, [3, 4]].values\n",
    "dataset"
   ]
  },
  {
   "cell_type": "markdown",
   "metadata": {},
   "source": [
    "## 3. За допомогою ліктьового методу знаходимо оптимальну кількість скупчень"
   ]
  },
  {
   "cell_type": "code",
   "execution_count": 3,
   "metadata": {},
   "outputs": [
    {
     "data": {
      "image/png": "[encoded data removed]",
      "text/plain": [
       "<Figure size 432x288 with 1 Axes>"
      ]
     },
     "metadata": {
      "needs_background": "light"
     },
     "output_type": "display_data"
    }
   ],
   "source": [
    "from sklearn.cluster import KMeans\n",
    "wcss = []\n",
    "for i in range(1, 11):\n",
    "    kmeans = KMeans(n_clusters = i, init = 'k-means++', random_state = 42)\n",
    "    kmeans.fit(X)\n",
    "    wcss.append(kmeans.inertia_)\n",
    "plt.plot(range(1, 11), wcss)\n",
    "plt.title('The Elbow Method')\n",
    "plt.xlabel('Number of clusters')\n",
    "plt.ylabel('WCSS')\n",
    "plt.show()"
   ]
  },
  {
   "cell_type": "markdown",
   "metadata": {},
   "source": [
    "## 4. Навчання моделі K-Means на наборі даних"
   ]
  },
  {
   "cell_type": "code",
   "execution_count": 4,
   "metadata": {},
   "outputs": [],
   "source": [
    "kmeans = KMeans(n_clusters = 5, init = 'k-means++', random_state = 42)\n",
    "y_kmeans = kmeans.fit_predict(X)"
   ]
  },
  {
   "cell_type": "markdown",
   "metadata": {},
   "source": [
    "## 5. Візуалізація кластерів"
   ]
  },
  {
   "cell_type": "code",
   "execution_count": 5,
   "metadata": {
    "scrolled": true
   },
   "outputs": [
    {
     "data": {
      "image/png": "[encoded data removed]",
      "text/plain": [
       "<Figure size 432x288 with 1 Axes>"
      ]
     },
     "metadata": {
      "needs_background": "light"
     },
     "output_type": "display_data"
    }
   ],
   "source": [
    "plt.scatter(X[y_kmeans == 0, 0], X[y_kmeans == 0, 1], s = 100, c = 'red', label = 'Cluster 1')\n",
    "plt.scatter(X[y_kmeans == 1, 0], X[y_kmeans == 1, 1], s = 100, c = 'blue', label = 'Cluster 2')\n",
    "plt.scatter(X[y_kmeans == 2, 0], X[y_kmeans == 2, 1], s = 100, c = 'green', label = 'Cluster 3')\n",
    "plt.scatter(X[y_kmeans == 3, 0], X[y_kmeans == 3, 1], s = 100, c = 'cyan', label = 'Cluster 4')\n",
    "plt.scatter(X[y_kmeans == 4, 0], X[y_kmeans == 4, 1], s = 100, c = 'magenta', label = 'Cluster 5')\n",
    "plt.scatter(kmeans.cluster_centers_[:, 0], kmeans.cluster_centers_[:, 1], s = 100, alpha = 0.9, c = 'yellow', label = 'Centroids')\n",
    "plt.title('Clusters of customers')\n",
    "plt.xlabel('Annual Income (k$)')\n",
    "plt.ylabel('Spending Score (1-100)')\n",
    "plt.legend()\n",
    "plt.show()"
   ]
  },
  {
   "cell_type": "markdown",
   "metadata": {},
   "source": [
    "## 5. Маштабування даних та повторна кластеризація"
   ]
  },
  {
   "cell_type": "code",
   "execution_count": 6,
   "metadata": {
    "scrolled": true
   },
   "outputs": [
    {
     "name": "stdout",
     "output_type": "stream",
     "text": [
      "[[0.         0.3877551 ]\n",
      " [0.         0.81632653]\n",
      " [0.00819672 0.05102041]\n",
      " [0.00819672 0.7755102 ]\n",
      " [0.01639344 0.39795918]\n",
      " [0.01639344 0.76530612]\n",
      " [0.02459016 0.05102041]\n",
      " [0.02459016 0.94897959]\n",
      " [0.03278689 0.02040816]\n",
      " [0.03278689 0.7244898 ]\n",
      " [0.03278689 0.13265306]\n",
      " [0.03278689 1.        ]\n",
      " [0.04098361 0.14285714]\n",
      " [0.04098361 0.7755102 ]\n",
      " [0.04098361 0.12244898]\n",
      " [0.04098361 0.79591837]\n",
      " [0.04918033 0.34693878]\n",
      " [0.04918033 0.66326531]\n",
      " [0.06557377 0.28571429]\n",
      " [0.06557377 0.98979592]\n",
      " [0.07377049 0.34693878]\n",
      " [0.07377049 0.73469388]\n",
      " [0.08196721 0.04081633]\n",
      " [0.08196721 0.73469388]\n",
      " [0.10655738 0.13265306]\n",
      " [0.10655738 0.82653061]\n",
      " [0.10655738 0.31632653]\n",
      " [0.10655738 0.6122449 ]\n",
      " [0.1147541  0.30612245]\n",
      " [0.1147541  0.87755102]\n",
      " [0.12295082 0.03061224]\n",
      " [0.12295082 0.73469388]\n",
      " [0.14754098 0.03061224]\n",
      " [0.14754098 0.92857143]\n",
      " [0.14754098 0.13265306]\n",
      " [0.14754098 0.81632653]\n",
      " [0.1557377  0.16326531]\n",
      " [0.1557377  0.73469388]\n",
      " [0.18032787 0.25510204]\n",
      " [0.18032787 0.75510204]\n",
      " [0.18852459 0.34693878]\n",
      " [0.18852459 0.92857143]\n",
      " [0.19672131 0.35714286]\n",
      " [0.19672131 0.6122449 ]\n",
      " [0.19672131 0.2755102 ]\n",
      " [0.19672131 0.65306122]\n",
      " [0.20491803 0.55102041]\n",
      " [0.20491803 0.46938776]\n",
      " [0.20491803 0.41836735]\n",
      " [0.20491803 0.41836735]\n",
      " [0.22131148 0.52040816]\n",
      " [0.22131148 0.60204082]\n",
      " [0.2295082  0.54081633]\n",
      " [0.2295082  0.60204082]\n",
      " [0.2295082  0.44897959]\n",
      " [0.2295082  0.40816327]\n",
      " [0.23770492 0.5       ]\n",
      " [0.23770492 0.45918367]\n",
      " [0.25409836 0.51020408]\n",
      " [0.25409836 0.45918367]\n",
      " [0.25409836 0.56122449]\n",
      " [0.25409836 0.55102041]\n",
      " [0.26229508 0.52040816]\n",
      " [0.26229508 0.59183673]\n",
      " [0.2704918  0.51020408]\n",
      " [0.2704918  0.59183673]\n",
      " [0.2704918  0.5       ]\n",
      " [0.2704918  0.47959184]\n",
      " [0.2704918  0.59183673]\n",
      " [0.2704918  0.46938776]\n",
      " [0.27868852 0.55102041]\n",
      " [0.27868852 0.41836735]\n",
      " [0.28688525 0.48979592]\n",
      " [0.28688525 0.56122449]\n",
      " [0.31967213 0.46938776]\n",
      " [0.31967213 0.54081633]\n",
      " [0.31967213 0.53061224]\n",
      " [0.31967213 0.47959184]\n",
      " [0.31967213 0.52040816]\n",
      " [0.31967213 0.41836735]\n",
      " [0.31967213 0.51020408]\n",
      " [0.31967213 0.55102041]\n",
      " [0.31967213 0.40816327]\n",
      " [0.31967213 0.43877551]\n",
      " [0.31967213 0.57142857]\n",
      " [0.31967213 0.45918367]\n",
      " [0.3442623  0.58163265]\n",
      " [0.3442623  0.55102041]\n",
      " [0.35245902 0.60204082]\n",
      " [0.35245902 0.45918367]\n",
      " [0.36065574 0.55102041]\n",
      " [0.36065574 0.40816327]\n",
      " [0.36885246 0.48979592]\n",
      " [0.36885246 0.39795918]\n",
      " [0.36885246 0.41836735]\n",
      " [0.36885246 0.52040816]\n",
      " [0.36885246 0.46938776]\n",
      " [0.36885246 0.5       ]\n",
      " [0.37704918 0.41836735]\n",
      " [0.37704918 0.48979592]\n",
      " [0.3852459  0.40816327]\n",
      " [0.3852459  0.47959184]\n",
      " [0.3852459  0.59183673]\n",
      " [0.3852459  0.55102041]\n",
      " [0.3852459  0.56122449]\n",
      " [0.3852459  0.41836735]\n",
      " [0.39344262 0.5       ]\n",
      " [0.39344262 0.45918367]\n",
      " [0.39344262 0.42857143]\n",
      " [0.39344262 0.47959184]\n",
      " [0.39344262 0.52040816]\n",
      " [0.39344262 0.54081633]\n",
      " [0.40163934 0.41836735]\n",
      " [0.40163934 0.45918367]\n",
      " [0.40983607 0.47959184]\n",
      " [0.40983607 0.5       ]\n",
      " [0.40983607 0.42857143]\n",
      " [0.40983607 0.59183673]\n",
      " [0.42622951 0.42857143]\n",
      " [0.42622951 0.57142857]\n",
      " [0.42622951 0.56122449]\n",
      " [0.42622951 0.39795918]\n",
      " [0.44262295 0.58163265]\n",
      " [0.44262295 0.91836735]\n",
      " [0.45081967 0.28571429]\n",
      " [0.45081967 0.7755102 ]\n",
      " [0.45901639 0.34693878]\n",
      " [0.45901639 0.95918367]\n",
      " [0.45901639 0.10204082]\n",
      " [0.45901639 0.75510204]\n",
      " [0.45901639 0.08163265]\n",
      " [0.45901639 0.75510204]\n",
      " [0.46721311 0.33673469]\n",
      " [0.46721311 0.71428571]\n",
      " [0.47540984 0.04081633]\n",
      " [0.47540984 0.8877551 ]\n",
      " [0.47540984 0.06122449]\n",
      " [0.47540984 0.73469388]\n",
      " [0.48360656 0.09183673]\n",
      " [0.48360656 0.7244898 ]\n",
      " [0.49180328 0.04081633]\n",
      " [0.49180328 0.93877551]\n",
      " [0.5        0.39795918]\n",
      " [0.5        0.87755102]\n",
      " [0.50819672 0.1122449 ]\n",
      " [0.50819672 0.97959184]\n",
      " [0.50819672 0.35714286]\n",
      " [0.50819672 0.74489796]\n",
      " [0.51639344 0.21428571]\n",
      " [0.51639344 0.90816327]\n",
      " [0.51639344 0.16326531]\n",
      " [0.51639344 0.8877551 ]\n",
      " [0.51639344 0.19387755]\n",
      " [0.51639344 0.76530612]\n",
      " [0.51639344 0.15306122]\n",
      " [0.51639344 0.89795918]\n",
      " [0.51639344 0.        ]\n",
      " [0.51639344 0.78571429]\n",
      " [0.51639344 0.        ]\n",
      " [0.51639344 0.73469388]\n",
      " [0.52459016 0.34693878]\n",
      " [0.52459016 0.83673469]\n",
      " [0.54098361 0.04081633]\n",
      " [0.54098361 0.93877551]\n",
      " [0.57377049 0.25510204]\n",
      " [0.57377049 0.75510204]\n",
      " [0.58196721 0.19387755]\n",
      " [0.58196721 0.95918367]\n",
      " [0.59016393 0.26530612]\n",
      " [0.59016393 0.63265306]\n",
      " [0.59016393 0.12244898]\n",
      " [0.59016393 0.75510204]\n",
      " [0.59016393 0.09183673]\n",
      " [0.59016393 0.92857143]\n",
      " [0.59836066 0.12244898]\n",
      " [0.59836066 0.86734694]\n",
      " [0.59836066 0.14285714]\n",
      " [0.59836066 0.69387755]\n",
      " [0.63934426 0.13265306]\n",
      " [0.63934426 0.90816327]\n",
      " [0.67213115 0.31632653]\n",
      " [0.67213115 0.86734694]\n",
      " [0.68032787 0.14285714]\n",
      " [0.68032787 0.8877551 ]\n",
      " [0.68852459 0.3877551 ]\n",
      " [0.68852459 0.97959184]\n",
      " [0.70491803 0.23469388]\n",
      " [0.70491803 0.68367347]\n",
      " [0.72131148 0.16326531]\n",
      " [0.72131148 0.85714286]\n",
      " [0.72131148 0.2244898 ]\n",
      " [0.72131148 0.69387755]\n",
      " [0.80327869 0.07142857]\n",
      " [0.80327869 0.91836735]\n",
      " [0.86065574 0.15306122]\n",
      " [0.86065574 0.79591837]\n",
      " [0.90983607 0.2755102 ]\n",
      " [0.90983607 0.74489796]\n",
      " [1.         0.17346939]\n",
      " [1.         0.83673469]]\n"
     ]
    }
   ],
   "source": [
    "from sklearn.preprocessing import MinMaxScaler\n",
    "sc = MinMaxScaler(feature_range=(0,1))\n",
    "sc.fit(X)\n",
    "X = sc.transform(X)\n",
    "print(X)"
   ]
  },
  {
   "cell_type": "markdown",
   "metadata": {},
   "source": [
    "### Навчання моделі після маштабування"
   ]
  },
  {
   "cell_type": "code",
   "execution_count": 7,
   "metadata": {},
   "outputs": [],
   "source": [
    "kmeans_scale = KMeans(n_clusters = 5, init = 'k-means++', random_state = 42)\n",
    "y_kmeans_scale = kmeans_scale.fit_predict(X)"
   ]
  },
  {
   "cell_type": "code",
   "execution_count": 8,
   "metadata": {
    "scrolled": true
   },
   "outputs": [
    {
     "data": {
      "image/png": "[encoded data removed]",
      "text/plain": [
       "<Figure size 432x288 with 1 Axes>"
      ]
     },
     "metadata": {
      "needs_background": "light"
     },
     "output_type": "display_data"
    }
   ],
   "source": [
    "plt.scatter(X[y_kmeans_scale == 0, 0], X[y_kmeans_scale == 0, 1], s = 100, c = 'red', label = 'Cluster 1')\n",
    "plt.scatter(X[y_kmeans_scale == 1, 0], X[y_kmeans_scale == 1, 1], s = 100, c = 'blue', label = 'Cluster 2')\n",
    "plt.scatter(X[y_kmeans_scale == 2, 0], X[y_kmeans_scale == 2, 1], s = 100, c = 'green', label = 'Cluster 3')\n",
    "plt.scatter(X[y_kmeans_scale == 3, 0], X[y_kmeans_scale == 3, 1], s = 100, c = 'cyan', label = 'Cluster 4')\n",
    "plt.scatter(X[y_kmeans_scale == 4, 0], X[y_kmeans_scale == 4, 1], s = 100, c = 'magenta', label = 'Cluster 5')\n",
    "plt.scatter(kmeans_scale.cluster_centers_[:, 0], kmeans_scale.cluster_centers_[:, 1], s = 100, alpha = 0.9, c = 'yellow', label = 'Centroids')\n",
    "plt.title('Clusters of customers')\n",
    "plt.xlabel('Annual Income (k$)')\n",
    "plt.ylabel('Spending Score (1-100)')\n",
    "plt.legend()\n",
    "plt.show()"
   ]
  }
 ],
 "metadata": {
  "kernelspec": {
   "display_name": "Python 3",
   "language": "python",
   "name": "python3"
  },
  "language_info": {
   "codemirror_mode": {
    "name": "ipython",
    "version": 3
   },
   "file_extension": ".py",
   "mimetype": "text/x-python",
   "name": "python",
   "nbconvert_exporter": "python",
   "pygments_lexer": "ipython3",
   "version": "3.8.3"
  }
 },
 "nbformat": 4,
 "nbformat_minor": 4
}
